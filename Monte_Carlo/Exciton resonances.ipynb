{
 "cells": [
  {
   "cell_type": "code",
   "execution_count": 4,
   "metadata": {},
   "outputs": [],
   "source": [
    "import warnings\n",
    "import numpy as np\n",
    "import matplotlib.pyplot as plt\n",
    "from numpy.random import default_rng\n",
    "import itertools as it\n",
    "import sys\n",
    "import progressbar\n",
    "import time\n",
    "import random\n",
    "\n",
    "from scipy import linalg\n",
    "from scipy.linalg import LinAlgWarning\n",
    "\n",
    "import pickle\n",
    "\n",
    "warnings.filterwarnings(action='error', category=LinAlgWarning, module='sklearn')\n",
    "\n",
    "from joblib import Parallel, delayed\n",
    "import os\n",
    "cpuCount = os.cpu_count()\n"
   ]
  },
  {
   "cell_type": "code",
   "execution_count": 5,
   "metadata": {},
   "outputs": [],
   "source": [
    "\n",
    "def create_G(k, rx, ry=0., rz=0., threshold = 1e-6):\n",
    "     # threshold for normalization\n",
    "\n",
    "    r_in = np.sqrt(rx**2 + ry**2 + rz**2) # input r\n",
    "    r = r_in + threshold # renormalize to avoid divergences\n",
    "    phase = np.exp(1j*k*r)/(4*np.pi*r)\n",
    "\n",
    "    G = {\"xx\":0., \"yy\":0., \"xy\":0.}\n",
    "    G[\"xx\"] = phase * ( 1. + (1j*k*r-1.)/(k*r) + ( -1. + (3.-3.*1j*k*r)/(k*r)**2)*rx**2/r**2 ) \n",
    "    G[\"yy\"] = phase * ( 1. + (1j*k*r-1.)/(k*r) + ( -1. + (3.-3.*1j*k*r)/(k*r)**2)*ry**2/r**2 )\n",
    "    G[\"xy\"] = phase * ( ( -1. + (3.-3.*1j*k*r)/(k*r)**2)*rx*ry/r**2 )\n",
    "\n",
    "    for key in G.keys():\n",
    "        G[key][r_in<threshold] = 0. # set vals with r=0. to zero (don't count emitter interacting with itself)\n",
    "\n",
    "    return G\n",
    "\n",
    "def create_G(k, rx, ry=0., rz=0., thres_same = 1e-12, thres_ren = 1e-6):\n",
    "\n",
    "    r_in = np.sqrt(rx**2 + ry**2 + rz**2) # input r\n",
    "    \n",
    "    r = r_in\n",
    "    r[ r_in<thres_ren ] = thres_ren # renormalize to avoid divergences\n",
    "    \n",
    "    phase = np.exp(1j*k*r)/(4*np.pi*r)\n",
    "\n",
    "    G = dict()\n",
    "    G[\"xx\"] = phase * ( 1. + (1j*k*r-1.)/(k*r) + ( -1. + (3.-3.*1j*k*r)/(k*r)**2)*rx**2/r**2 ) \n",
    "    G[\"yy\"] = phase * ( 1. + (1j*k*r-1.)/(k*r) + ( -1. + (3.-3.*1j*k*r)/(k*r)**2)*ry**2/r**2 )\n",
    "    G[\"xy\"] = phase * ( ( -1. + (3.-3.*1j*k*r)/(k*r)**2)*rx*ry/r**2 )\n",
    "\n",
    "    \n",
    "    for key in G.keys():\n",
    "        G[key][r_in<threshold] = 0. # set vals with r=0. to zero (don't count emitter interacting with itself)\n",
    "    return G"
   ]
  },
  {
   "cell_type": "code",
   "execution_count": 10,
   "metadata": {},
   "outputs": [],
   "source": [
    "# for convention, x-axis is axis along which potential is and excitons are positioned (just 1D)\n",
    "\n",
    "# evaluate the dyadic Green's function for (k,r). k is wavevector of incident beam (k=2*pi if units of lambda are used)\n",
    "# r=|r1-r2| for two particles (r can be a matrix)\n",
    "\n",
    "def create_G(k, rx, ry=0., rz=0., thres_same = 1e-12, thres_ren = 1e-12):\n",
    "    \n",
    "    r_in = np.sqrt(rx**2 + ry**2 + rz**2) # input r\n",
    "    \n",
    "    rx_ren = rx + thres_ren*np.random.random_sample(r_in.shape)    \n",
    "    r = np.sqrt(rx_ren**2 + ry**2 + rz**2)  # add some random noise to renormalize for divergences\n",
    "\n",
    "    \n",
    "    phase = np.exp(1j*k*r)/(4*np.pi*r)\n",
    "\n",
    "    G = dict()\n",
    "    G[\"xx\"] = phase * ( 1. + (1j*k*r-1.)/(k*r) + ( -1. + (3.-3.*1j*k*r)/(k*r)**2)*rx**2/r**2 ) \n",
    "    G[\"yy\"] = phase * ( 1. + (1j*k*r-1.)/(k*r) + ( -1. + (3.-3.*1j*k*r)/(k*r)**2)*ry**2/r**2 )\n",
    "    G[\"xy\"] = phase * ( ( -1. + (3.-3.*1j*k*r)/(k*r)**2)*rx*ry/r**2 )\n",
    "    \n",
    "    \n",
    "    for key in G.keys():\n",
    "        G[key][r_in<thres_same] = 0. # set vals with r=0. to zero (don't count emitter interacting with itself)\n",
    "\n",
    "    return G\n",
    "\n",
    "def regularize_pos(v_x, min_dx=0.01):\n",
    "    v_x = np.sort(v_x)\n",
    "    L_x = v_x[-1]-v_x[0]\n",
    "    \n",
    "    diff_x = np.diff(v_x)\n",
    "    tot_reg = np.sum(diff_x<min_dx)\n",
    "    diff_reg = [np.maximum(dx, min_dx) for dx in diff_x]\n",
    "    \n",
    "    return np.cumsum([v_x[0]]+diff_reg)*L_x/(L_x + tot_reg*min_dx) # make sure it has the same length again\n",
    "\n",
    "\n",
    "\n",
    "def create_A(x_ij,v_alpha, X=None):\n",
    "    G = create_G(2.*np.pi, rx=x_ij)\n",
    "    \n",
    "    A = dict()\n",
    "    A[\"xx\"] = 4.*np.pi**2/epsilon*( G[\"xx\"]@np.diag(v_alpha) )\n",
    "    A[\"yy\"] = 4.*np.pi**2/epsilon*( G[\"yy\"]@np.diag(v_alpha) )\n",
    "    A[\"xy\"] = 4.*np.pi**2/epsilon*( G[\"xy\"]@np.diag(v_alpha) )\n",
    "    return A\n",
    "\n",
    "# polarization of an emitter \n",
    "def alpha(delta, gamma, lambda_a=1., gamma_0=None):\n",
    "    if gamma_0 is None:\n",
    "        gamma_0 = gamma\n",
    "    return -3./(4.*np.pi**2)*epsilon*lambda_a**3*(gamma/2.)/(delta+1j*gamma_0/2.)\n",
    "\n",
    "def stack_xy(A):\n",
    "      return np.block([[A[\"xx\"], A[\"xy\"]], \n",
    "                        [A[\"xy\"], A[\"yy\"]]])\n",
    "    \n",
    "def mean_reject_outliers(data, m=5.):\n",
    "    return np.mean(data[abs(data - np.mean(data)) < m * np.std(data)])\n",
    "\n",
    "def reject_outliers(data, m=5.):\n",
    "    return data[abs(data - np.mean(data)) < m * np.std(data)]\n",
    "\n",
    "# given a set of particles with polarizations v_p_x at positions v_x_exc, \n",
    "# reconstruct electric field for 2D array (v_x,v_z) at some y-offset (to avoid divergences)\n",
    "\n",
    "def reconstruct_field_2D(v_x, v_y, v_x_exc, v_p, offset=0., plane_orientation = \"xy\"):\n",
    "    N_exc = v_x_exc.size\n",
    "    E_rec = {'x': np.zeros((v_x.size, v_y.size), dtype=\"complex\"), 'y': np.zeros((v_x.size, v_y.size), dtype=\"complex\") }\n",
    "    for n, x_n in enumerate(list(v_x_exc)):\n",
    "        X, Y = v_x[:,None]-x_n, v_y[None,:]\n",
    "        if plane_orientation == \"xy\":\n",
    "            G = create_G(2.*np.pi, rx=X, ry=Y, rz=offset)\n",
    "        elif plane_orientation == \"xz\":\n",
    "            G = create_G(2.*np.pi, rx=X, rz=Y, ry=offset)\n",
    "\n",
    "    E_rec['x'] += 4.*np.pi**2/epsilon * ( G['xx']*v_p['x'][n] + G['xy']*v_p['y'][n])\n",
    "    E_rec['y'] += 4.*np.pi**2/epsilon * ( G['yy']*v_p['y'][n] + G['xy']*v_p['x'][n]) \n",
    "\n",
    "    #if full_rec and plane_orientation==\"xy\":\n",
    "    #  return np.exp(1j*2*np.pi*offset) + E_rec\n",
    "    #elif full_rec and plane_orientation==\"xz\":\n",
    "    #  return np.exp(1j*2*np.pi*v_y[None,:]) + E_rec\n",
    "    #else:\n",
    "    return E_rec\n"
   ]
  },
  {
   "cell_type": "code",
   "execution_count": 61,
   "metadata": {},
   "outputs": [],
   "source": [
    "# variable parameters diagram\n",
    "a_min, a_max, n_a = 0.12, .2, 5 # lattice distances in units of lambda\n",
    "delta_min, delta_max, n_delta = -1., 1., 100 # delta in units of gamma\n",
    "\n",
    "# lattice parameters\n",
    "\n",
    "# randomness: \n",
    "# True: a potential well is randomly selected for each emitter and some disorder is added with variance D_a\n",
    "# False: N_exc particles on a 1D array with lattice separation a (can be used for check)\n",
    "rand_positions = True \n",
    "\n",
    "L = 2. # length of sample in terms wavelength\n",
    "n = 5 # density\n",
    "N_exc = int(L*n) # number of excitons\n",
    "\n",
    "D_a = .05 # disorder on positions (Guassian fluctuations around minima potential) in units of a\n",
    "\n",
    "if not rand_positions:\n",
    "    L = N_exc\n",
    "\n",
    "# system parameters\n",
    "D_delta = 0.01 # disorder on resonances in units of delta (Gaussian standard deviation)\n",
    "gamma = 1. # decay rate excitons, set as energy unit now\n",
    "E = 1. # energy intensity incident light (uniform beam now, but that can be changed if e.g. spatial Gaussian profile would be necessary)\n",
    "pol_angle = np.pi/2 # angle of polarization: 0. is along x-axis, where excitons are positioned, pi/2 is perpendicular to that\n",
    "\n",
    "epsilon = 12.25 # dielectric constant GaAs (units of epsilon_0)\n",
    "c = 1. # speed of light\n",
    "\n",
    "N_sample = 64*256 # number of samples you want to use to average over for each point\n",
    "parallel = True # use parallel"
   ]
  },
  {
   "cell_type": "markdown",
   "metadata": {},
   "source": [
    "## Generate sample matrices (a, delta)"
   ]
  },
  {
   "cell_type": "code",
   "execution_count": 62,
   "metadata": {},
   "outputs": [
    {
     "name": "stdout",
     "output_type": "stream",
     "text": [
      "Obtaining 16384 samples using 128 workers...\n",
      "processing time: 58.27s\n"
     ]
    }
   ],
   "source": [
    "v_a = np.linspace(a_min, a_max, n_a)\n",
    "v_delta = np.linspace(delta_min, delta_max, n_delta)\n",
    "\n",
    "# function to create one instance of matrix (a, delta)\n",
    "def create_a_delta_matrix(seed):\n",
    "    \n",
    "    rng = default_rng(seed + int(time.time()))\n",
    "    \n",
    "    pols = np.zeros((3,2,n_a,n_delta), dtype='complex') # first index is effective polarization, fully random or bare, second 'x' or 'y'\n",
    "    for i_a, a in enumerate(list(v_a)):\n",
    "        for i_delta, delta in enumerate(list(v_delta)):\n",
    "            N_well = L/a\n",
    "            # generate a random instance exc positions and delta's\n",
    "            \n",
    "            # random positions\n",
    "            if rand_positions:\n",
    "                v_x_exc = regularize_pos(\n",
    "                    a*rng.integers(0,N_well, size=N_exc) + rng.normal( scale=D_a, size=N_exc) )\n",
    "            else:\n",
    "                v_x_exc = a*np.linspace(0.,N_exc-1.,N_exc)\n",
    "            \n",
    "            # just a sample of fully random positions in [0,L]\n",
    "            v_x_exc_rand = regularize_pos( L*np.sort(rng.random((N_exc,))) )\n",
    "            \n",
    "            # random delta's\n",
    "            v_delta_exc = delta + rng.normal( scale=D_delta, size=N_exc) \n",
    "\n",
    "            # create matrix (\\alpha G)_ij \n",
    "            v_alpha = alpha(v_delta_exc, gamma) # polarization of emitters (with random delta for each one)\n",
    "            x_ij = np.abs(v_x_exc[:,None] - v_x_exc[None,:]) # matrix of length differences |xi-xj|\n",
    "            A = stack_xy(create_A(x_ij,v_alpha))\n",
    "            \n",
    "            x_ij_rand = np.abs(v_x_exc_rand[:,None] - v_x_exc_rand[None,:])\n",
    "            A_rand = stack_xy(create_A(x_ij_rand,v_alpha))\n",
    "\n",
    "            # create vector p0 (with random sampled delta)\n",
    "            p0_x = v_alpha*E*np.cos(pol_angle)\n",
    "            p0_y = v_alpha*E*np.sin(pol_angle)\n",
    "            v_p0 = np.concatenate((p0_x, p0_y), axis=None )\n",
    "\n",
    "            # solve equations\n",
    "            v_p = np.linalg.lstsq(np.eye(2*N_exc)-A, v_p0)[0]\n",
    "            v_p_rand = np.linalg.lstsq(np.eye(2*N_exc)-A_rand, v_p0)[0]\n",
    "\n",
    "            pols[0,0,i_a,i_delta] = np.sum( v_p[:N_exc] )\n",
    "            pols[0,1,i_a,i_delta] = np.sum( v_p[N_exc:] )\n",
    "            pols[1,0,i_a,i_delta] = np.sum( v_p_rand[:N_exc] )\n",
    "            pols[1,1,i_a,i_delta] = np.sum( v_p_rand[N_exc:] )\n",
    "            pols[2,0,i_a,i_delta] = np.sum( v_p0[:N_exc] )\n",
    "            pols[2,1,i_a,i_delta] = np.sum( v_p0[N_exc:] )\n",
    "            #print( np.array(v_p[:N_exc]).shape )\n",
    "    return pols\n",
    "\n",
    "# collect matrices   \n",
    "start = time.time() \n",
    "\n",
    "if parallel:\n",
    "    print('Obtaining {} samples using {} workers...'.format(N_sample,cpuCount) )\n",
    "    res = Parallel(n_jobs=-1 )(delayed(create_a_delta_matrix)(ic) for ic in range(N_sample))\n",
    "else:\n",
    "    print('Obtaining samples in series...')\n",
    "    res = [create_a_delta_matrix(ic) for ic in range(N_sample)]\n",
    "    \n",
    "res = np.array( res )\n",
    "\n",
    "# compute far-field\n",
    "far_field = {'x': np.zeros((n_a,n_delta)), 'y': np.zeros((n_a,n_delta))}\n",
    "far_field_rand = {'x': np.zeros((n_a,n_delta)), 'y': np.zeros((n_a,n_delta))}\n",
    "\n",
    "for i, key in enumerate(['x', 'y']):\n",
    "    for i_a in range(n_a):\n",
    "        for i_delta in range(n_delta):\n",
    "            dat_ad = reject_outliers(np.abs(res[:,0,i,i_a,i_delta])**2 )\n",
    "            far_field[key][i_a,i_delta] = np.pi**2/epsilon**2*np.mean(dat_ad)\n",
    "            \n",
    "            dat_ad_rand = reject_outliers(np.abs(res[:,1,i,i_a,i_delta])**2 )\n",
    "            far_field_rand[key][i_a,i_delta] = np.pi**2/epsilon**2*np.mean(dat_ad_rand)\n",
    "    \n",
    "print(\"processing time: {:.2f}s\".format(time.time()-start))"
   ]
  },
  {
   "cell_type": "code",
   "execution_count": 63,
   "metadata": {},
   "outputs": [
    {
     "data": {
      "text/plain": [
       "Text(0, 0.5, '$\\\\delta$')"
      ]
     },
     "execution_count": 63,
     "metadata": {},
     "output_type": "execute_result"
    },
    {
     "data": {
      "image/png": "[encoded data removed]",
      "text/plain": [
       "<Figure size 432x288 with 2 Axes>"
      ]
     },
     "metadata": {
      "needs_background": "light"
     },
     "output_type": "display_data"
    }
   ],
   "source": [
    "vmax=None\n",
    "plt.pcolormesh(v_a, v_delta, far_field['y'].T, shading='auto', vmax=vmax)\n",
    "#plt.pcolormesh(v_a, v_delta, np.abs(res[70,0,1,:,:]).T-np.abs(res[1,0,1,:,:]).T, shading='gouraud', vmax=vmax)\n",
    "plt.colorbar()\n",
    "\n",
    "plt.xlabel(r\"$a$\")\n",
    "plt.ylabel(r\"$\\delta$\")"
   ]
  },
  {
   "cell_type": "code",
   "execution_count": 64,
   "metadata": {},
   "outputs": [
    {
     "data": {
      "image/png": "[encoded data removed]",
      "text/plain": [
       "<Figure size 432x288 with 1 Axes>"
      ]
     },
     "metadata": {
      "needs_background": "light"
     },
     "output_type": "display_data"
    }
   ],
   "source": [
    "#a_plot = np.array([0.2,0.4,0.6,0.8, 1.])\n",
    "a_plot = v_a\n",
    "\n",
    "plt.figure(figsize=(6,4))\n",
    "for a in a_plot:\n",
    "    i_a = np.argmin(np.abs(a-v_a))\n",
    "    plt.plot(v_delta,far_field['y'][i_a],'.',label=r'$a={:.2f}\\lambda$'.format(v_a[i_a]))\n",
    "plt.plot(v_delta,np.mean(far_field_rand['y'][:,:], axis=0), color='k', label = 'fully random')\n",
    "\n",
    "plt.xlabel(r\"detuning $\\delta/\\gamma$\")\n",
    "plt.ylabel(\"Far Field intensity\")\n",
    "plt.legend()\n",
    "plt.grid(True)\n",
    "plt.title(r\"Results $n={:.2f}/\\lambda$ with $\\Delta a={:.2f}\\lambda$ and $\\Delta \\delta={:.2f}\\lambda$\".format(N_exc/L,D_a, D_delta))\n",
    "plt.savefig('results_lowa_density_{:.2f}_Da_{:.2f}_Ddelta_{:.2f}.pdf'.format(N_exc/L,D_a, D_delta))"
   ]
  },
  {
   "cell_type": "code",
   "execution_count": 18,
   "metadata": {},
   "outputs": [
    {
     "data": {
      "text/plain": [
       "(array([5.190e+02, 3.688e+03, 5.379e+03, 3.641e+03, 1.856e+03, 7.950e+02,\n",
       "        2.870e+02, 1.150e+02, 5.100e+01, 1.700e+01, 9.000e+00, 5.000e+00,\n",
       "        8.000e+00, 5.000e+00, 3.000e+00, 0.000e+00, 0.000e+00, 1.000e+00,\n",
       "        0.000e+00, 1.000e+00, 0.000e+00, 0.000e+00, 1.000e+00, 0.000e+00,\n",
       "        0.000e+00, 0.000e+00, 1.000e+00, 0.000e+00, 0.000e+00, 2.000e+00]),\n",
       " array([ 0.08301063,  0.91305855,  1.74310647,  2.57315439,  3.4032023 ,\n",
       "         4.23325022,  5.06329814,  5.89334606,  6.72339398,  7.55344189,\n",
       "         8.38348981,  9.21353773, 10.04358565, 10.87363357, 11.70368149,\n",
       "        12.5337294 , 13.36377732, 14.19382524, 15.02387316, 15.85392108,\n",
       "        16.683969  , 17.51401691, 18.34406483, 19.17411275, 20.00416067,\n",
       "        20.83420859, 21.6642565 , 22.49430442, 23.32435234, 24.15440026,\n",
       "        24.98444818]),\n",
       " <BarContainer object of 30 artists>)"
      ]
     },
     "execution_count": 18,
     "metadata": {},
     "output_type": "execute_result"
    },
    {
     "data": {
      "image/png": "[encoded data removed]",
      "text/plain": [
       "<Figure size 432x288 with 1 Axes>"
      ]
     },
     "metadata": {
      "needs_background": "light"
     },
     "output_type": "display_data"
    }
   ],
   "source": [
    "i_a = 0\n",
    "idmax = np.argmax(far_field['y'][i_a])\n",
    "plt.hist(np.abs(res[:,0,1,i_a,idmax]), bins=30)"
   ]
  },
  {
   "cell_type": "code",
   "execution_count": 68,
   "metadata": {},
   "outputs": [
    {
     "data": {
      "text/plain": [
       "array([-0.49511739,  0.56880808,  1.93086704,  0.48747027,  0.29092057,\n",
       "        0.78997096,  1.1990412 ,  0.56599895,  0.47378265, -0.27585829,\n",
       "        0.50597432, -2.02749925, -1.45401106,  0.08230857, -0.81656452,\n",
       "       -1.787519  , -0.97394729, -0.17233172,  0.57704875,  0.37949846])"
      ]
     },
     "execution_count": 68,
     "metadata": {},
     "output_type": "execute_result"
    }
   ],
   "source": [
    "rng = default_rng()\n",
    "rng.normal( scale=1., size=N_exc) "
   ]
  },
  {
   "cell_type": "code",
   "execution_count": 94,
   "metadata": {},
   "outputs": [
    {
     "data": {
      "text/plain": [
       "<matplotlib.legend.Legend at 0x151fcdb9b850>"
      ]
     },
     "execution_count": 94,
     "metadata": {},
     "output_type": "execute_result"
    },
    {
     "data": {
      "image/png": "[encoded data removed]",
      "text/plain": [
       "<Figure size 432x288 with 1 Axes>"
      ]
     },
     "metadata": {
      "needs_background": "light"
     },
     "output_type": "display_data"
    }
   ],
   "source": [
    "delta_plot = [-1., 0., 1.]\n",
    "\n",
    "for delta in delta_plot:\n",
    "    i_delta = np.argmin(np.abs(delta-v_delta))\n",
    "    plt.plot(v_a,far_field['y'][:,i_delta],label=r'$\\delta={:.2f}$'.format(v_delta[i_delta]))\n",
    "#plt.plot(v_a,far_field_0['y'][:,i_delta], label = 'bare')\n",
    "plt.xlabel(r\"$a$\")\n",
    "plt.ylabel(\"Far Field intensity\")\n",
    "plt.legend()"
   ]
  },
  {
   "cell_type": "code",
   "execution_count": 95,
   "metadata": {},
   "outputs": [
    {
     "data": {
      "text/plain": [
       "array([-1.        , -0.97979798, -0.95959596, -0.93939394, -0.91919192,\n",
       "       -0.8989899 , -0.87878788, -0.85858586, -0.83838384, -0.81818182,\n",
       "       -0.7979798 , -0.77777778, -0.75757576, -0.73737374, -0.71717172,\n",
       "       -0.6969697 , -0.67676768, -0.65656566, -0.63636364, -0.61616162,\n",
       "       -0.5959596 , -0.57575758, -0.55555556, -0.53535354, -0.51515152,\n",
       "       -0.49494949, -0.47474747, -0.45454545, -0.43434343, -0.41414141,\n",
       "       -0.39393939, -0.37373737, -0.35353535, -0.33333333, -0.31313131,\n",
       "       -0.29292929, -0.27272727, -0.25252525, -0.23232323, -0.21212121,\n",
       "       -0.19191919, -0.17171717, -0.15151515, -0.13131313, -0.11111111,\n",
       "       -0.09090909, -0.07070707, -0.05050505, -0.03030303, -0.01010101,\n",
       "        0.01010101,  0.03030303,  0.05050505,  0.07070707,  0.09090909,\n",
       "        0.11111111,  0.13131313,  0.15151515,  0.17171717,  0.19191919,\n",
       "        0.21212121,  0.23232323,  0.25252525,  0.27272727,  0.29292929,\n",
       "        0.31313131,  0.33333333,  0.35353535,  0.37373737,  0.39393939,\n",
       "        0.41414141,  0.43434343,  0.45454545,  0.47474747,  0.49494949,\n",
       "        0.51515152,  0.53535354,  0.55555556,  0.57575758,  0.5959596 ,\n",
       "        0.61616162,  0.63636364,  0.65656566,  0.67676768,  0.6969697 ,\n",
       "        0.71717172,  0.73737374,  0.75757576,  0.77777778,  0.7979798 ,\n",
       "        0.81818182,  0.83838384,  0.85858586,  0.87878788,  0.8989899 ,\n",
       "        0.91919192,  0.93939394,  0.95959596,  0.97979798,  1.        ])"
      ]
     },
     "execution_count": 95,
     "metadata": {},
     "output_type": "execute_result"
    }
   ],
   "source": [
    "v_delta"
   ]
  },
  {
   "cell_type": "code",
   "execution_count": null,
   "metadata": {},
   "outputs": [],
   "source": [
    "#import warnings\n",
    "#warnings.filterwarnings('error')\n",
    "\n",
    "A = np.array([[1,1],[1,1]])\n",
    "p0 = np.array([1,2])\n",
    "eps = 1e-1\n",
    "\n",
    "\n",
    "p = linalg.solve(A-eps*np.eye(2),p0)       \n",
    "print(p)"
   ]
  },
  {
   "cell_type": "markdown",
   "metadata": {},
   "source": [
    "# Some OLD shit below"
   ]
  },
  {
   "cell_type": "code",
   "execution_count": 57,
   "metadata": {},
   "outputs": [
    {
     "name": "stdout",
     "output_type": "stream",
     "text": [
      "0.08390672983078373\n"
     ]
    },
    {
     "data": {
      "text/plain": [
       "<matplotlib.colorbar.Colorbar at 0x151fcc55b790>"
      ]
     },
     "execution_count": 57,
     "metadata": {},
     "output_type": "execute_result"
    },
    {
     "data": {
      "image/png": "[encoded data removed]",
      "text/plain": [
       "<Figure size 432x288 with 2 Axes>"
      ]
     },
     "metadata": {
      "needs_background": "light"
     },
     "output_type": "display_data"
    }
   ],
   "source": [
    "a = 0.5\n",
    "delta = 0.0\n",
    "fr_a = 0.001\n",
    "\n",
    "N_exc = 50\n",
    "N_well = 10\n",
    "\n",
    "rng = default_rng()\n",
    "v_x_exc = a*(rng.integers(0,N_well, size=N_exc) + rng.normal( scale=fr_a, size=N_exc) )\n",
    "#v_x_exc = a*np.arange(N_exc)\n",
    "v_x_exc[1] = v_x_exc[0] + 1e-6\n",
    "#print(v_x_exc)\n",
    "v_x_exc = regularize_pos(v_x_exc)\n",
    "#print(v_x_exc)\n",
    "\n",
    "v_delta_exc = delta*( 1. + rng.normal( scale=fr_delta, size=N_exc) )\n",
    "#print(v_delta_exc)\n",
    "\n",
    "# create matrix (\\alpha G)_ij \n",
    "v_alpha = alpha(v_delta_exc, gamma) # polarization of emitters (with random delta for each one)\n",
    "x_ij = np.abs(v_x_exc[:,None] - v_x_exc[None,:]) # matrix of length difference |xi-xj|\n",
    "A = stack_xy(create_A(x_ij,v_alpha))\n",
    "\n",
    "\n",
    "# create vector p0 (with random sampled delta)\n",
    "p0_x = v_alpha*E*np.cos(pol_angle)\n",
    "p0_y = v_alpha*E*np.sin(pol_angle)\n",
    "v_p0 = np.concatenate((p0_x, p0_y), axis=None )\n",
    "\n",
    "# solve equations\n",
    "v_p = linalg.solve(np.eye(2*N_exc)-A, v_p0)\n",
    "\n",
    "print(np.linalg.cond(np.eye(2*N_exc)-A, p=-2)*100 )\n",
    "\n",
    "plt.pcolormesh(np.abs(A))\n",
    "plt.colorbar()"
   ]
  },
  {
   "cell_type": "code",
   "execution_count": 46,
   "metadata": {},
   "outputs": [
    {
     "data": {
      "text/plain": [
       "(array([224.,  25.,   4.,   2.,   0.,   0.,   0.,   0.,   0.,   0.,   0.,\n",
       "          0.,   0.,   0.,   0.,   0.,   0.,   0.,   0.,   0.,   0.,   0.,\n",
       "          0.,   0.,   0.,   0.,   0.,   0.,   0.,   1.]),\n",
       " array([1.50271973e-03, 1.66270197e+00, 3.32390122e+00, 4.98510046e+00,\n",
       "        6.64629971e+00, 8.30749896e+00, 9.96869821e+00, 1.16298975e+01,\n",
       "        1.32910967e+01, 1.49522960e+01, 1.66134952e+01, 1.82746944e+01,\n",
       "        1.99358937e+01, 2.15970929e+01, 2.32582922e+01, 2.49194914e+01,\n",
       "        2.65806907e+01, 2.82418899e+01, 2.99030892e+01, 3.15642884e+01,\n",
       "        3.32254877e+01, 3.48866869e+01, 3.65478862e+01, 3.82090854e+01,\n",
       "        3.98702847e+01, 4.15314839e+01, 4.31926832e+01, 4.48538824e+01,\n",
       "        4.65150817e+01, 4.81762809e+01, 4.98374802e+01]),\n",
       " <BarContainer object of 30 artists>)"
      ]
     },
     "execution_count": 46,
     "metadata": {},
     "output_type": "execute_result"
    },
    {
     "data": {
      "image/png": "[encoded data removed]",
      "text/plain": [
       "<Figure size 432x288 with 1 Axes>"
      ]
     },
     "metadata": {
      "needs_background": "light"
     },
     "output_type": "display_data"
    }
   ],
   "source": [
    "plt.hist(np.abs(res[:,0,1,1,n_delta//2]), bins=30)"
   ]
  },
  {
   "cell_type": "code",
   "execution_count": null,
   "metadata": {},
   "outputs": [],
   "source": [
    "\n",
    "\n",
    "v_a = np.linspace(a_min, a_max, n_a)\n",
    "v_delta = np.linspace(delta_min, delta_max, n_delta)\n",
    "\n",
    "far_field = {'x': np.zeros((n_a,n_delta)), 'y': np.zeros((n_a,n_delta)) }\n",
    "far_field_0 = {'x': np.zeros((n_a,n_delta)), 'y': np.zeros((n_a,n_delta)) }\n",
    "\n",
    "print(\"Obtaining samples of polarizations...\\n\")\n",
    "\n",
    "bar = progressbar.ProgressBar(maxval=n_a*n_delta, \\\n",
    "widgets=[progressbar.Bar('=', '[', ']'), ' ', progressbar.Percentage()])\n",
    "bar.start()\n",
    "\n",
    "count = 0\n",
    "rng = default_rng()\n",
    "\n",
    "start = time.time()\n",
    "for i_a, a in enumerate(list(v_a)):\n",
    "    for i_delta, delta in enumerate(list(v_delta)):\n",
    "\n",
    "            \n",
    "        # definition of local function for parallel sample collection\n",
    "        def get_instance(dummy):\n",
    "            # create array of random positions and resonances\n",
    "            if rand_positions:\n",
    "                v_x_exc = a*(rng.integers(0,L, size=N_exc) + rng.normal( scale=fr_a, size=N_exc) )\n",
    "            else:\n",
    "                v_x_exc = a*np.linspace(0.,N_exc-1.,N_exc)\n",
    "            \n",
    "            v_delta_exc = delta*( 1. + rng.normal( scale=fr_delta, size=N_exc) )\n",
    "\n",
    "            # create matrix (\\alpha G)_ij \n",
    "            v_alpha = alpha(v_delta_exc, gamma) # polarization of each emitter (with random delta for each one)\n",
    "            x_ij = np.abs(v_x_exc[:,None] - v_x_exc[None,:]) # matrix of length difference |xi-xj|\n",
    "            A = stack_xy(create_A(x_ij,v_alpha))\n",
    "\n",
    "            # create vector p0 (with random sampled delta)\n",
    "            p0_x = v_alpha*E*np.cos(pol_angle)\n",
    "            p0_y = v_alpha*E*np.sin(pol_angle)\n",
    "            v_p0 = np.concatenate((p0_x, p0_y), axis=None )\n",
    "\n",
    "            # solve equations\n",
    "            v_p = linalg.solve(np.eye(2*N_exc)-A, v_p0)\n",
    "\n",
    "            return np.array([v_p, v_p0])\n",
    "\n",
    "        if parallel:\n",
    "            res = Parallel(n_jobs=n_proc)(delayed(get_instance)(ic) for ic in range(N_loop*cpuCount))\n",
    "            res = np.array( res )\n",
    "            pol_eff = res[:,0,:]\n",
    "            pol_bare = res[:,1,:]\n",
    "            #print(pol_eff.shape)\n",
    "        else:\n",
    "            pol_eff = []\n",
    "            pol_bare = []\n",
    "            for i in range(N_loop):\n",
    "                res = get_instance(0)\n",
    "                pol_eff.append( res[0] )\n",
    "                pol_bare.append( res[1] )\n",
    "            pol_eff = np.array( pol_eff )\n",
    "            pol_bare = np.array( pol_bare )\n",
    "\n",
    "        # process samples after collection\n",
    "        pol_s = dict()\n",
    "        pol_s['x'] = np.sum( np.array(pol_eff)[:,:N_exc], axis=1 )\n",
    "        pol_s['y'] = np.sum( np.array(pol_eff)[:,N_exc:], axis=1 )\n",
    "        \n",
    "        pol0_s = dict()\n",
    "        pol0_s['x'] = np.sum( np.array(pol_bare)[:,:N_exc], axis=1 )\n",
    "        pol0_s['y'] = np.sum( np.array(pol_bare)[:,N_exc:], axis=1 )\n",
    "        \n",
    "        #print( np.array(pol_eff).shape )\n",
    "        # save far-field\n",
    "        for key in ['x', 'y']:\n",
    "            far_field[key][i_a,i_delta] = np.pi**2/epsilon**2*np.mean( np.abs(pol_s[key])**2 )\n",
    "            far_field_0[key][i_a,i_delta] = np.pi**2/epsilon**2*np.mean( np.abs(pol0_s[key])**2 )\n",
    "\n",
    "        count += 1\n",
    "        bar.update( count )\n",
    "\n",
    "bar.finish()\n",
    "\n",
    "print(\"processing time: {:.2f}s\".format(time.time()-start))"
   ]
  },
  {
   "cell_type": "code",
   "execution_count": null,
   "metadata": {},
   "outputs": [],
   "source": [
    "parallel = False\n",
    "\n",
    "# The grid for reconstruction\n",
    "x_min, x_max, n_x = -0.1*L, 1.1*(L-1), 256\n",
    "z_min, z_max, n_z = 0., L, 128\n",
    "\n",
    "# the vectors\n",
    "v_x = np.linspace(x_min, x_max, n_x)\n",
    "v_z = np.linspace(z_min, z_max, n_z)\n",
    "v_a = np.linspace(a_min, a_max, n_a)\n",
    "v_delta = np.linspace(delta_min, delta_max, n_delta)\n",
    "\n",
    "cpuCount = os.cpu_count()\n",
    "rng = default_rng()\n",
    "\n",
    "count = 0\n",
    "\n",
    "v_sa = np.zeros((n_a,n_delta))\n",
    "\n",
    "bar = progressbar.ProgressBar(maxval=n_a*n_delta, \\\n",
    "widgets=[progressbar.Bar('=', '[', ']'), ' ', progressbar.Percentage()])\n",
    "bar.start()\n",
    "for i_a, a in enumerate(list(v_a)):\n",
    "    for i_delta, delta in enumerate(list(v_delta)):\n",
    "    \n",
    "        def get_instance(dummy):\n",
    "            D_a = fr_a*a\n",
    "            D_delta = fr_delta*np.abs(delta)\n",
    "            v_x_exc = a*rng.integers(0,L, size=N_exc) + rng.normal( scale=D_a, size=N_exc)\n",
    "            print(v_x_exc)\n",
    "            v_delta = delta + rng.normal( scale=D_delta, size=N_exc)\n",
    "            return scattered_amplitude(v_x_exc, v_delta, v_x, v_z)\n",
    "        \n",
    "        if parallel:\n",
    "            sa = Parallel(n_jobs=-1)(delayed(get_instance)(i) for i in range(cpuCount))\n",
    "        else:\n",
    "            sa = get_instance(0)\n",
    "        v_sa[i_a,i_delta] = np.mean(sa)\n",
    "        \n",
    "        count += 1\n",
    "        bar.update(count)\n"
   ]
  },
  {
   "cell_type": "code",
   "execution_count": null,
   "metadata": {},
   "outputs": [],
   "source": [
    "v_a"
   ]
  },
  {
   "cell_type": "code",
   "execution_count": null,
   "metadata": {},
   "outputs": [],
   "source": [
    "vmax = 1.\n",
    "norm = np.pi*z_max**2*(x_max-x_min)\n",
    "plt.pcolor(v_a,v_delta,v_sa.T/norm, vmax=vmax, shading=\"auto\")\n",
    "plt.xlabel(\"a\")\n",
    "plt.ylabel(r\"$\\delta$\")\n",
    "plt.colorbar()"
   ]
  },
  {
   "cell_type": "code",
   "execution_count": null,
   "metadata": {},
   "outputs": [],
   "source": [
    "v_x_exc"
   ]
  },
  {
   "cell_type": "markdown",
   "metadata": {},
   "source": []
  },
  {
   "cell_type": "code",
   "execution_count": null,
   "metadata": {},
   "outputs": [],
   "source": [
    "v_sa_0 = v_sa"
   ]
  },
  {
   "cell_type": "code",
   "execution_count": null,
   "metadata": {},
   "outputs": [],
   "source": [
    "## Define parameters\n",
    "\n",
    "# lattice parameters\n",
    "\n",
    "# randomness: \n",
    "# True: a potential well is randomly selected for each emitter and some disorder is added with variance D_a\n",
    "# False: N_exc particles on a 1D array with lattice separation a (can be used for check)\n",
    "rand_positions = True \n",
    "\n",
    "N_exc = 50 # number of excitons\n",
    "L = 10 # number potential wells to distribute the N_exc particles over\n",
    "a = .5 # lattice distance in units of lambda\n",
    "D_a = .01*a # disorder on positions (Guassian fluctuations around minima potential) in units of lambda\n",
    "\n",
    "if not rand_positions:\n",
    "    L = N_exc\n",
    "\n",
    "# system parameters\n",
    "#delta = -0.1344 # detuning between pump and exciton resonance \n",
    "delta = -1.\n",
    "D_delta = 0.*np.abs(delta) # disorder on resonances (Gaussian standard deviation)\n",
    "gamma = 1. # decay rate excitons\n",
    "E = 1. # energy intensity incident light (uniform beam now, but that can be changed if e.g. spatial Gaussian profile would be necessary)\n",
    "pol = 'x' # angle of polarization 0. is along x-axis, where excitons are positioned, pi is perpendicular to that\n",
    "\n",
    "epsilon = 12.25 # dielectric constant GaAs (units of epsilon_0)\n",
    "c = 1. # speed of light\n",
    "\n",
    "N_samples = 20 # number of samples you want to use to average over\n"
   ]
  },
  {
   "cell_type": "code",
   "execution_count": null,
   "metadata": {},
   "outputs": [],
   "source": [
    "## Obtain effective polarizations of emitters by self-consistent evaluation\n",
    "\n",
    "data = {\"polarization\":[],\"x\":[],\"alpha\":[],\"delta\":[]}\n",
    "\n",
    "rng = default_rng()\n",
    "\n",
    "print(\"Obtaining samples of polarizations...\\n\")\n",
    "\n",
    "bar = progressbar.ProgressBar(maxval=N_samples, \\\n",
    "widgets=[progressbar.Bar('=', '[', ']'), ' ', progressbar.Percentage()])\n",
    "bar.start()\n",
    "for i in range(N_samples):\n",
    "\n",
    "    # create array of random positions and resonances\n",
    "    if rand_positions:\n",
    "        v_x_exc = a*rng.integers(0,L, size=N_exc) + rng.normal( scale=D_a, size=N_exc)\n",
    "    else:\n",
    "        v_x_exc = a*np.linspace(1.,N_exc,N_exc)\n",
    "    v_delta_exc = delta + rng.normal( scale=D_delta, size=N_exc)\n",
    "\n",
    "    # create matrix (\\alpha G)_ij \n",
    "    v_alpha = alpha(v_delta_exc, gamma)\n",
    "    r_ij = np.abs(v_x_exc[:,None] - v_x_exc[None,:])\n",
    "    A = create_A(r_ij,v_alpha)\n",
    "\n",
    "    # create vector p0 (with random sampled delta)\n",
    "    p0 = v_alpha*E\n",
    "\n",
    "    # solve\n",
    "    data[\"polarization\"].append( linalg.solve(np.eye(N_exc)-A, p0) )\n",
    "\n",
    "    # save others\n",
    "    data[\"x\"].append( v_x_exc )\n",
    "    data[\"delta\"].append( v_delta_exc )\n",
    "    data[\"alpha\"].append( v_alpha )\n",
    "\n",
    "    bar.update( i )\n",
    "\n",
    "    bar.finish()\n"
   ]
  },
  {
   "cell_type": "code",
   "execution_count": null,
   "metadata": {},
   "outputs": [],
   "source": [
    "# The grid for reconstruction\n",
    "x_min, x_max, n_x = -0.1*L*a, 1.1*(L-1)*a, 256\n",
    "z_min, z_max, n_z = 0., 10.*a, 128\n",
    "\n",
    "# the vectors\n",
    "v_x = np.linspace(x_min, x_max, n_x)\n",
    "v_z = np.linspace(z_min, z_max, n_z)\n",
    "\n",
    "d_x = v_x[1] - v_x[0]\n",
    "d_r = v_z[1] - v_z[0]\n",
    "\n",
    "data[\"scattered_amplitude\"] = []\n",
    "\n",
    "\n",
    "print(\"Reconstructing field for each sample...\")\n",
    "\n",
    "bar = progressbar.ProgressBar(maxval=N_samples, \\\n",
    "widgets=[progressbar.Bar('=', '[', ']'), ' ', progressbar.Percentage()])\n",
    "bar.start()\n",
    "for i in range(N_samples):\n",
    "    field = reconstruct_field(v_x, v_z, data[\"x\"][i], data[\"polarization\"][i] )\n",
    "    data[\"scattered_amplitude\"].append( 2.*np.pi*np.sum( v_z*np.sum(np.abs(field), axis=0 )*d_x )*d_r )\n",
    "    bar.update(i+1)\n",
    "bar.finish()"
   ]
  },
  {
   "cell_type": "code",
   "execution_count": null,
   "metadata": {},
   "outputs": [],
   "source": [
    "for i, sc in enumerate(data[\"scattered_amplitude\"]):\n",
    "    print(\"{}: {}\".format(i,sc))"
   ]
  },
  {
   "cell_type": "code",
   "execution_count": null,
   "metadata": {},
   "outputs": [],
   "source": [
    "# The grid for reconstruction\n",
    "x_min, x_max, n_x = -0.1*L*a, 1.1*(L-1)*a, 50\n",
    "z_min, z_max, n_z = -5.*a, 5.*a, 50\n",
    "y_min, y_max, n_y = z_min, z_max, n_z\n",
    "\n",
    "# the vectors\n",
    "v_x = np.linspace(x_min, x_max, n_x)\n",
    "v_y = np.linspace(y_min, y_max, n_y)\n",
    "v_z = np.linspace(z_min, z_max, n_z)\n",
    "\n",
    "data[\"field\"] = []\n",
    "\n",
    "print(\"Reconstructing field for each sample...\")\n",
    "\n",
    "bar = progressbar.ProgressBar(maxval=N_samples, \\\n",
    "widgets=[progressbar.Bar('=', '[', ']'), ' ', progressbar.Percentage()])\n",
    "bar.start()\n",
    "for i in range(N_samples):\n",
    "    data[\"field\"].append( reconstruct_field_3D(v_x, v_y, v_z, data[\"x\"][i], data[\"polarization\"][i] ) )\n",
    "    \n",
    "    bar.update(i+1)\n",
    "bar.finish()"
   ]
  },
  {
   "cell_type": "code",
   "execution_count": null,
   "metadata": {},
   "outputs": [],
   "source": [
    "sample = 18\n",
    "vmax = 1.\n",
    "fig, ax = plt.subplots(1,2, figsize=(15,6))\n",
    "pcm = ax[0].pcolor(v_x/a,v_z/a,np.abs(data[\"field\"][sample][:,:,n_z//2].T)**2, vmax=vmax)\n",
    "fig.colorbar(pcm, ax=ax[0])\n",
    "\n",
    "pcm = ax[1].pcolor(v_x/a,v_z/a,np.abs(data[\"field\"][sample][:,n_y//2,:].T)**2, vmax=vmax)\n",
    "fig.colorbar(pcm, ax=ax[1])"
   ]
  },
  {
   "cell_type": "code",
   "execution_count": null,
   "metadata": {},
   "outputs": [],
   "source": [
    "np.max(np.abs(data[\"field\"][sample][:,:,n_z//2]) - abs(data[\"field\"][sample][:,n_y//2,:]))"
   ]
  },
  {
   "cell_type": "code",
   "execution_count": null,
   "metadata": {},
   "outputs": [],
   "source": []
  }
 ],
 "metadata": {
  "celltoolbar": "Tags",
  "kernelspec": {
   "display_name": "Python 3",
   "language": "python",
   "name": "python3"
  },
  "language_info": {
   "codemirror_mode": {
    "name": "ipython",
    "version": 3
   },
   "file_extension": ".py",
   "mimetype": "text/x-python",
   "name": "python",
   "nbconvert_exporter": "python",
   "pygments_lexer": "ipython3",
   "version": "3.8.5"
  }
 },
 "nbformat": 4,
 "nbformat_minor": 4
}
